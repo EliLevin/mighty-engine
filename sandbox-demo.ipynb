{
 "cells": [
  {
   "cell_type": "code",
   "execution_count": 16,
   "metadata": {
    "collapsed": true
   },
   "outputs": [],
   "source": [
    "from fhirclient import client\n",
    "from fhirclient.models.patient import Patient\n",
    "from fhirclient.models.immunization import Immunization\n",
    "from fhirclient.models.observation import Observation"
   ]
  },
  {
   "cell_type": "code",
   "execution_count": 2,
   "metadata": {
    "collapsed": true
   },
   "outputs": [],
   "source": [
    "# SMART on FHIR: STU3 Sandbox server connection settings\n",
    "settings = {\n",
    "    'app_id': 'my_web_app',\n",
    "    'api_base': 'https://sb-fhir-stu3.smarthealthit.org/smartstu3/open'\n",
    "}\n",
    "smart = client.FHIRClient(settings=settings)"
   ]
  },
  {
   "cell_type": "code",
   "execution_count": 3,
   "metadata": {
    "collapsed": true
   },
   "outputs": [],
   "source": [
    "# Sample patient id\n",
    "patient_id = 'a33d3135-2c7a-43ad-8804-3c2d3f492253'"
   ]
  },
  {
   "cell_type": "markdown",
   "metadata": {},
   "source": [
    "### Pulling personal info"
   ]
  },
  {
   "cell_type": "code",
   "execution_count": 34,
   "metadata": {
    "scrolled": true
   },
   "outputs": [
    {
     "data": {
      "text/plain": [
       "{'address': [{'city': 'Mansfield',\n",
       "   'country': 'US',\n",
       "   'extension': [{'extension': [{'url': 'latitude',\n",
       "       'valueDecimal': 41.99653013975442},\n",
       "      {'url': 'longitude', 'valueDecimal': -71.2149007730296}],\n",
       "     'url': 'http://hl7.org/fhir/StructureDefinition/geolocation'}],\n",
       "   'line': ['721 Lexi Shores'],\n",
       "   'postalCode': '02048',\n",
       "   'state': 'MA'}],\n",
       " 'birthDate': '1993-08-09',\n",
       " 'communication': [{'language': {'coding': [{'code': 'en-US',\n",
       "      'display': 'English (United States)',\n",
       "      'system': 'http://hl7.org/fhir/ValueSet/languages'}]}}],\n",
       " 'extension': [{'url': 'http://hl7.org/fhir/us/core/StructureDefinition/us-core-race',\n",
       "   'valueCodeableConcept': {'coding': [{'code': '2106-3',\n",
       "      'display': 'White',\n",
       "      'system': 'http://hl7.org/fhir/v3/Race'}],\n",
       "    'text': 'race'}},\n",
       "  {'url': 'http://hl7.org/fhir/us/core/StructureDefinition/us-core-ethnicity',\n",
       "   'valueCodeableConcept': {'coding': [{'code': '2186-5',\n",
       "      'display': 'Nonhispanic',\n",
       "      'system': 'http://hl7.org/fhir/v3/Ethnicity'}],\n",
       "    'text': 'ethnicity'}},\n",
       "  {'url': 'http://hl7.org/fhir/StructureDefinition/birthPlace',\n",
       "   'valueAddress': {'city': 'Easton', 'country': 'US', 'state': 'MA'}},\n",
       "  {'url': 'http://hl7.org/fhir/StructureDefinition/patient-mothersMaidenName',\n",
       "   'valueString': 'Crissy Kunze'},\n",
       "  {'url': 'http://hl7.org/fhir/us/core/StructureDefinition/us-core-birthsex',\n",
       "   'valueCode': 'M'},\n",
       "  {'url': 'http://hl7.org/fhir/StructureDefinition/patient-interpreterRequired',\n",
       "   'valueBoolean': False}],\n",
       " 'gender': 'male',\n",
       " 'id': 'a33d3135-2c7a-43ad-8804-3c2d3f492253',\n",
       " 'identifier': [{'system': 'https://github.com/synthetichealth/synthea',\n",
       "   'value': '8f32aaba-f386-4612-902b-e28392b204c9'},\n",
       "  {'system': 'http://hl7.org/fhir/sid/us-ssn',\n",
       "   'type': {'coding': [{'code': 'SB',\n",
       "      'system': 'http://hl7.org/fhir/identifier-type'}]},\n",
       "   'value': '999437347'},\n",
       "  {'system': 'urn:oid:2.16.840.1.113883.4.3.25',\n",
       "   'type': {'coding': [{'code': 'DL',\n",
       "      'system': 'http://hl7.org/fhir/v2/0203'}]},\n",
       "   'value': 'S99966531'},\n",
       "  {'system': 'http://standardhealthrecord.org/fhir/StructureDefinition/passportNumber',\n",
       "   'type': {'coding': [{'code': 'PPN',\n",
       "      'system': 'http://hl7.org/fhir/v2/0203'}]},\n",
       "   'value': 'X38456445X'},\n",
       "  {'system': 'http://hospital.smarthealthit.org',\n",
       "   'type': {'coding': [{'code': 'MR',\n",
       "      'system': 'http://hl7.org/fhir/v2/0203'}]},\n",
       "   'value': '8f32aaba-f386-4612-902b-e28392b204c9'}],\n",
       " 'maritalStatus': {'coding': [{'code': 'S',\n",
       "    'system': 'http://hl7.org/fhir/v3/MaritalStatus'}],\n",
       "  'text': 'Never Married'},\n",
       " 'meta': {'lastUpdated': '2017-07-12T15:39:38.000+00:00',\n",
       "  'tag': [{'code': 'synthea-7-2017',\n",
       "    'system': 'https://smarthealthit.org/tags'}],\n",
       "  'versionId': '1'},\n",
       " 'multipleBirthBoolean': False,\n",
       " 'name': [{'family': 'Corkery',\n",
       "   'given': ['Omar'],\n",
       "   'prefix': ['Mr.'],\n",
       "   'use': 'official'}],\n",
       " 'resourceType': 'Patient',\n",
       " 'telecom': [{'system': 'phone', 'use': 'home', 'value': '1-877-999-1073'}],\n",
       " 'text': {'div': '<div xmlns=\"http://www.w3.org/1999/xhtml\">Generated by <a href=\"https://github.com/synthetichealth/synthea\">Synthea</a>. Version identifier: 1a8d765a5375bf72f3b7a92001940d05a6f21189</div>',\n",
       "  'status': 'generated'}}"
      ]
     },
     "execution_count": 34,
     "metadata": {},
     "output_type": "execute_result"
    }
   ],
   "source": [
    "patient = Patient.read(patient_id, smart.server)\n",
    "patient.as_json()"
   ]
  },
  {
   "cell_type": "code",
   "execution_count": 35,
   "metadata": {},
   "outputs": [
    {
     "name": "stdout",
     "output_type": "stream",
     "text": [
      "Omar\n",
      "Corkery\n",
      "male\n",
      "1993-08-09\n"
     ]
    }
   ],
   "source": [
    "print(patient.name[0].given[0])\n",
    "print(patient.name[0].family)\n",
    "print(patient.gender)\n",
    "print(patient.birthDate.isostring)"
   ]
  },
  {
   "cell_type": "markdown",
   "metadata": {},
   "source": [
    "### Pull immunizations"
   ]
  },
  {
   "cell_type": "code",
   "execution_count": 10,
   "metadata": {},
   "outputs": [
    {
     "name": "stdout",
     "output_type": "stream",
     "text": [
      "2013-03-18T14:09:10-04:00 Influenza, seasonal, injectable, preservative free\n",
      "2014-03-07T08:12:46-05:00 Influenza, seasonal, injectable, preservative free\n",
      "2016-09-28T05:06:34-04:00 Influenza, seasonal, injectable, preservative free\n",
      "2016-09-28T05:06:34-04:00 Td (adult) preservative free\n",
      "2008-05-16T13:01:15-04:00 Influenza, seasonal, injectable, preservative free\n",
      "2008-05-16T13:01:15-04:00 HPV, quadrivalent\n",
      "2009-06-02T16:12:54-04:00 Influenza, seasonal, injectable, preservative free\n",
      "2010-06-30T11:24:00-04:00 Influenza, seasonal, injectable, preservative free\n",
      "2010-06-30T11:24:00-04:00 meningococcal MCV4P\n",
      "2011-06-07T16:22:50-04:00 Influenza, seasonal, injectable, preservative free\n"
     ]
    }
   ],
   "source": [
    "search = Immunization.where(struct={'patient': patient_id})\n",
    "immunizations = search.perform_resources(smart.server)\n",
    "for immunization in immunizations:\n",
    "    # print(immunization.as_json())\n",
    "    print(immunization.date.isostring, immunization.vaccineCode.text)"
   ]
  },
  {
   "cell_type": "markdown",
   "metadata": {},
   "source": [
    "### Pull observations (Note: not all observations seem to get pulled. Not sure why, needs investigation)"
   ]
  },
  {
   "cell_type": "code",
   "execution_count": 31,
   "metadata": {
    "scrolled": true
   },
   "outputs": [
    {
     "name": "stdout",
     "output_type": "stream",
     "text": [
      "2011-06-07T16:22:50-04:00 Body Mass Index\n",
      "2011-06-07T16:22:50-04:00 Blood Pressure\n",
      "2012-05-18T15:32:31-04:00 Body Height\n",
      "2012-05-18T15:32:31-04:00 Body Weight\n",
      "2012-05-18T15:32:31-04:00 Body Mass Index\n",
      "2012-05-18T15:32:31-04:00 Blood Pressure\n",
      "2012-05-18T15:32:31-04:00 Estimated Glomerular Filtration Rate\n",
      "2013-03-18T14:09:10-04:00 Body Height\n",
      "2013-03-18T14:09:10-04:00 Body Weight\n",
      "2013-03-18T14:09:10-04:00 Body Mass Index\n"
     ]
    }
   ],
   "source": [
    "search = Observation.where(struct={'patient': patient_id})\n",
    "observations = search.perform_resources(smart.server)\n",
    "for observation in observations:\n",
    "    # print(observation.as_json())\n",
    "    print(observation.effectiveDateTime.isostring, observation.code.coding[0].display)"
   ]
  },
  {
   "cell_type": "code",
   "execution_count": null,
   "metadata": {
    "collapsed": true
   },
   "outputs": [],
   "source": []
  }
 ],
 "metadata": {
  "kernelspec": {
   "display_name": "Python [conda env:mh-dev]",
   "language": "python",
   "name": "conda-env-mh-dev-py"
  },
  "language_info": {
   "codemirror_mode": {
    "name": "ipython",
    "version": 3
   },
   "file_extension": ".py",
   "mimetype": "text/x-python",
   "name": "python",
   "nbconvert_exporter": "python",
   "pygments_lexer": "ipython3",
   "version": "3.5.4"
  }
 },
 "nbformat": 4,
 "nbformat_minor": 2
}
